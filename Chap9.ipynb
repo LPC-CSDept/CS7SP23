{
 "cells": [
  {
   "attachments": {},
   "cell_type": "markdown",
   "metadata": {},
   "source": [
    "# Chapter 9. Dictionary"
   ]
  },
  {
   "cell_type": "code",
   "execution_count": null,
   "metadata": {},
   "outputs": [],
   "source": [
    "\n",
    "\n",
    "d1 = {'A':1, 'B':2, 'C':3}\n",
    "\n",
    "value = 3\n",
    "\n",
    "key = [k for k in d1 if d1[k] == value ]\n",
    "\n",
    "print (key)\n"
   ]
  },
  {
   "cell_type": "code",
   "execution_count": null,
   "metadata": {},
   "outputs": [],
   "source": [
    "dict1 = {'name': 'KIM', 'ZIP':94598, 'address':'1234 Grand ave'}\n",
    "dict2 = {'score':[100,90], 'Grade':'Senior'}\n",
    "dict3 = {**dict1, **dict2}\n",
    "\n",
    "print (dict3)\n"
   ]
  },
  {
   "cell_type": "code",
   "execution_count": null,
   "metadata": {},
   "outputs": [],
   "source": [
    "dict3 = dict1.copy()\n",
    "dict3.update(dict2)\n",
    "print (dict3)"
   ]
  },
  {
   "cell_type": "code",
   "execution_count": 8,
   "metadata": {},
   "outputs": [
    {
     "name": "stdout",
     "output_type": "stream",
     "text": [
      "A -> 1\n",
      "B -> 2\n",
      "C -> 3\n"
     ]
    }
   ],
   "source": [
    "d1 = {'A': 1, 'B':2, 'C':3}\n",
    "\n",
    "# How to access the particular element?\n",
    "\n",
    "d1['A']\n",
    "\n",
    "for k in d1:\n",
    "    print (k, '->', d1[k])\n",
    "\n"
   ]
  },
  {
   "cell_type": "code",
   "execution_count": 10,
   "metadata": {},
   "outputs": [
    {
     "data": {
      "text/plain": [
       "{'A': 3, 'B': 2, 'C': 3, 'D': 3}"
      ]
     },
     "execution_count": 10,
     "metadata": {},
     "output_type": "execute_result"
    }
   ],
   "source": [
    "d1['D'] = 3\n",
    "d1\n"
   ]
  },
  {
   "cell_type": "code",
   "execution_count": 13,
   "metadata": {},
   "outputs": [
    {
     "data": {
      "text/plain": [
       "{'A': 1}"
      ]
     },
     "execution_count": 13,
     "metadata": {},
     "output_type": "execute_result"
    }
   ],
   "source": [
    "d2 = {}\n",
    "d2['A'] = 1\n",
    "\n",
    "d2"
   ]
  },
  {
   "cell_type": "code",
   "execution_count": 19,
   "metadata": {},
   "outputs": [
    {
     "name": "stdout",
     "output_type": "stream",
     "text": [
      "{'Name': 'James', 'ID': '1001', 'Address': 'Livermore, CA'}\n",
      "There is no key\n"
     ]
    }
   ],
   "source": [
    "student_info = ['Name', 'ID', 'Address']\n",
    "values = ['James', '1001', 'Livermore, CA']\n",
    "\n",
    "student = {}\n",
    "\n",
    "for i in range(len(student_info)):\n",
    "\tstudent[student_info[i]] = values[i] \n",
    "\n",
    "print (student)\n",
    "\n",
    "mykey = 'scores'\n",
    "try:\n",
    "\tprint (student[mykey])\n",
    "except KeyError:\n",
    "\tprint ('There is no key')\n",
    "\n",
    "if mykey in student.keys():\n",
    "\tprint (student[mykey])\n",
    "\n"
   ]
  },
  {
   "cell_type": "code",
   "execution_count": 15,
   "metadata": {},
   "outputs": [
    {
     "data": {
      "text/plain": [
       "{'Name': 'James', 'Address': 'Livermore, CA'}"
      ]
     },
     "execution_count": 15,
     "metadata": {},
     "output_type": "execute_result"
    }
   ],
   "source": [
    "student.pop('ID')\n",
    "student"
   ]
  },
  {
   "cell_type": "code",
   "execution_count": 16,
   "metadata": {},
   "outputs": [
    {
     "name": "stdout",
     "output_type": "stream",
     "text": [
      "10\n"
     ]
    }
   ],
   "source": [
    "num = 10\n",
    "\n",
    "print (num)\n",
    "\n",
    "del num\n"
   ]
  },
  {
   "cell_type": "code",
   "execution_count": 17,
   "metadata": {},
   "outputs": [
    {
     "name": "stdout",
     "output_type": "stream",
     "text": [
      "{'Name': 'James', 'Address': 'Livermore, CA'}\n",
      "{'Address': 'Livermore, CA'}\n"
     ]
    }
   ],
   "source": [
    "print (student)\n",
    "del student['Name']\n",
    "\n",
    "print (student)"
   ]
  },
  {
   "cell_type": "code",
   "execution_count": 20,
   "metadata": {},
   "outputs": [
    {
     "name": "stdout",
     "output_type": "stream",
     "text": [
      "{'Kim': [100, 80, 70, 60], 'Bill': [100, 90, 80, 60], 'Mary': [90, 80, 70, 100]}\n"
     ]
    }
   ],
   "source": [
    "\n",
    "scores_record = {       'Kim':[100,80,70,60],\n",
    "                       'Bill':[100,90,80,60],\n",
    "                       'Mary':[90,80,70,100]}\n",
    "\n",
    "\n",
    "print (scores_record)"
   ]
  },
  {
   "cell_type": "code",
   "execution_count": 21,
   "metadata": {},
   "outputs": [
    {
     "name": "stdout",
     "output_type": "stream",
     "text": [
      "[100, 80, 70, 60]\n",
      "[100, 90, 80, 60]\n",
      "[90, 80, 70, 100]\n"
     ]
    }
   ],
   "source": [
    "# [1]\n",
    "\n",
    "for k in scores_record:\n",
    "    print (scores_record[k])\n",
    "    "
   ]
  },
  {
   "cell_type": "code",
   "execution_count": 22,
   "metadata": {},
   "outputs": [
    {
     "name": "stdout",
     "output_type": "stream",
     "text": [
      "[100, 80, 70, 60]\n",
      "[100, 90, 80, 60]\n",
      "[90, 80, 70, 100]\n"
     ]
    }
   ],
   "source": [
    "# [2]\n",
    "for k in scores_record.keys():\n",
    "    print (scores_record[k])"
   ]
  },
  {
   "cell_type": "code",
   "execution_count": 23,
   "metadata": {},
   "outputs": [
    {
     "name": "stdout",
     "output_type": "stream",
     "text": [
      "[100, 80, 70, 60]\n",
      "[100, 90, 80, 60]\n",
      "[90, 80, 70, 100]\n"
     ]
    }
   ],
   "source": [
    "# [3] \n",
    "for v in scores_record.values():\n",
    "    print (v)\n",
    "\n",
    "    "
   ]
  },
  {
   "cell_type": "code",
   "execution_count": 26,
   "metadata": {},
   "outputs": [
    {
     "name": "stdout",
     "output_type": "stream",
     "text": [
      "Kim [100, 80, 70, 60]\n",
      "Bill [100, 90, 80, 60]\n",
      "Mary [90, 80, 70, 100]\n"
     ]
    }
   ],
   "source": [
    "#[4]\n",
    "\n",
    "for k, v in scores_record.items():\n",
    "    print (k, v)\n"
   ]
  },
  {
   "cell_type": "code",
   "execution_count": 27,
   "metadata": {},
   "outputs": [
    {
     "name": "stdout",
     "output_type": "stream",
     "text": [
      "[100, 80, 70, 60]\n",
      "[100, 80, 70, 60]\n"
     ]
    }
   ],
   "source": [
    "print (scores_record['Kim'])\n",
    "print (scores_record.get('Kim'))\n"
   ]
  },
  {
   "cell_type": "code",
   "execution_count": 30,
   "metadata": {},
   "outputs": [
    {
     "name": "stdout",
     "output_type": "stream",
     "text": [
      "NoValue\n"
     ]
    }
   ],
   "source": [
    "# print (scores_record['Lee'])\n",
    "print (scores_record.get('Lee','NoValue'))\n"
   ]
  },
  {
   "cell_type": "code",
   "execution_count": 31,
   "metadata": {},
   "outputs": [
    {
     "name": "stdout",
     "output_type": "stream",
     "text": [
      "{'Kim': [100, 80, 70, 60], 'Bill': [100, 90, 80, 60], 'Mary': [90, 80, 70, 100]}\n"
     ]
    },
    {
     "data": {
      "text/plain": [
       "('Mary', [90, 80, 70, 100])"
      ]
     },
     "execution_count": 31,
     "metadata": {},
     "output_type": "execute_result"
    }
   ],
   "source": [
    "print (scores_record)\n",
    "scores_record.popitem()\n"
   ]
  },
  {
   "cell_type": "code",
   "execution_count": 32,
   "metadata": {},
   "outputs": [
    {
     "name": "stdout",
     "output_type": "stream",
     "text": [
      "{'Name': 'James', 'ID': '1001', 'Address': 'Livermore, CA'}\n"
     ]
    }
   ],
   "source": [
    "# fromkeys()\n",
    "student_info = ['Name', 'ID', 'Address']\n",
    "values = ['James', '1001', 'Livermore, CA']\n",
    "\n",
    "student = {}\n",
    "\n",
    "for i in range(len(student_info)):\n",
    "\tstudent[student_info[i]] = values[i] \n",
    "\n",
    "print (student)\n",
    "\n"
   ]
  },
  {
   "cell_type": "code",
   "execution_count": 33,
   "metadata": {},
   "outputs": [
    {
     "name": "stdout",
     "output_type": "stream",
     "text": [
      "{'Name': ['James', '1001', 'Livermore, CA'], 'ID': ['James', '1001', 'Livermore, CA'], 'Address': ['James', '1001', 'Livermore, CA']}\n"
     ]
    }
   ],
   "source": [
    "\n",
    "student2 = dict.fromkeys(student_info, values)\n",
    "\n",
    "print (student2)\n"
   ]
  },
  {
   "attachments": {},
   "cell_type": "markdown",
   "metadata": {},
   "source": [
    "# Lab 1"
   ]
  },
  {
   "cell_type": "code",
   "execution_count": 37,
   "metadata": {},
   "outputs": [
    {
     "name": "stdout",
     "output_type": "stream",
     "text": [
      "Kim -> [100, 80, 70, 60]\tBill -> [100, 90, 80, 60]\tMary -> [90, 80, 70, 100]\t\n",
      "Highest score is 340 from Mary\n"
     ]
    }
   ],
   "source": [
    "# Kim\n",
    "# 100 80 70 60\n",
    "# Bill\n",
    "# 100 90 80 60\n",
    "# Mary \n",
    "# 90 80 70 100\n",
    "\n",
    "def makeStudents(student, Names, Scores):\n",
    "\tfor i in range(len(Names)):\n",
    "\t\tstudent[Names[i]] = Scores[i]\n",
    "def printStudents(student):\n",
    "\tfor k,v in student.items():\n",
    "\t\tprint(f'{k} -> {v}', end = '\\t')\n",
    "\tprint ()\n",
    "\n",
    "def getMaxScore(student):\n",
    "\thighestVal = 0\n",
    "\tfor key, val in student.items():\n",
    "\t\tif highestVal < sum(val):\n",
    "\t\t\thighestVal = sum(val)\n",
    "\t\t\tname = key\n",
    "\tprint (f'Highest score is {highestVal} from {name}')\t\n",
    "\n",
    "def main():\n",
    "\tNames = ['Kim', 'Bill', 'Mary']\n",
    "\tScores = [[100, 80, 70, 60], [100, 90,80, 60], [90, 80, 70, 100]]\n",
    "\n",
    "\tstudent = {}\n",
    "\tmakeStudents(student, Names, Scores)\n",
    "\n",
    "\tprintStudents(student)\n",
    "\tgetMaxScore(student)\n",
    "\n",
    "main()"
   ]
  }
 ],
 "metadata": {
  "kernelspec": {
   "display_name": "base",
   "language": "python",
   "name": "python3"
  },
  "language_info": {
   "codemirror_mode": {
    "name": "ipython",
    "version": 3
   },
   "file_extension": ".py",
   "mimetype": "text/x-python",
   "name": "python",
   "nbconvert_exporter": "python",
   "pygments_lexer": "ipython3",
   "version": "3.9.13"
  },
  "orig_nbformat": 4
 },
 "nbformat": 4,
 "nbformat_minor": 2
}
