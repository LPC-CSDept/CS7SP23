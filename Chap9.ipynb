{
 "cells": [
  {
   "attachments": {},
   "cell_type": "markdown",
   "metadata": {},
   "source": [
    "# Chapter 9. Dictionary"
   ]
  },
  {
   "cell_type": "code",
   "execution_count": 7,
   "metadata": {},
   "outputs": [
    {
     "name": "stdout",
     "output_type": "stream",
     "text": [
      "['C']\n"
     ]
    }
   ],
   "source": [
    "\n",
    "\n",
    "d1 = {'A':1, 'B':2, 'C':3}\n",
    "\n",
    "value = 3\n",
    "\n",
    "key = [k for k in d1 if d1[k] == value ]\n",
    "\n",
    "print (key)\n"
   ]
  },
  {
   "cell_type": "code",
   "execution_count": 8,
   "metadata": {},
   "outputs": [
    {
     "name": "stdout",
     "output_type": "stream",
     "text": [
      "{'name': 'KIM', 'ZIP': 94598, 'address': '1234 Grand ave', 'score': [100, 90], 'Grade': 'Senior'}\n"
     ]
    }
   ],
   "source": [
    "dict1 = {'name': 'KIM', 'ZIP':94598, 'address':'1234 Grand ave'}\n",
    "dict2 = {'score':[100,90], 'Grade':'Senior'}\n",
    "dict3 = {**dict1, **dict2}\n",
    "\n",
    "print (dict3)\n"
   ]
  },
  {
   "cell_type": "code",
   "execution_count": 9,
   "metadata": {},
   "outputs": [
    {
     "name": "stdout",
     "output_type": "stream",
     "text": [
      "{'name': 'KIM', 'ZIP': 94598, 'address': '1234 Grand ave', 'score': [100, 90], 'Grade': 'Senior'}\n"
     ]
    }
   ],
   "source": [
    "dict3 = dict1.copy()\n",
    "dict3.update(dict2)\n",
    "print (dict3)"
   ]
  }
 ],
 "metadata": {
  "kernelspec": {
   "display_name": "base",
   "language": "python",
   "name": "python3"
  },
  "language_info": {
   "codemirror_mode": {
    "name": "ipython",
    "version": 3
   },
   "file_extension": ".py",
   "mimetype": "text/x-python",
   "name": "python",
   "nbconvert_exporter": "python",
   "pygments_lexer": "ipython3",
   "version": "3.9.7"
  },
  "orig_nbformat": 4
 },
 "nbformat": 4,
 "nbformat_minor": 2
}
