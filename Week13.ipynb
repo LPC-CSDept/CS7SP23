{
 "cells": [
  {
   "cell_type": "code",
   "execution_count": null,
   "metadata": {},
   "outputs": [],
   "source": [
    "def retEven(lst):\n",
    "       evenlst = []\n",
    "       for v in lst:\n",
    "               if v % 2 == 0:\n",
    "                       evenlst.append(v)\n",
    "       return evenlst\n",
    "\n",
    "lst = [1,2,3,4,5,6]\n",
    "first, *others, last = retEven(lst)\n",
    "print (first)\n",
    "print (last)\n",
    "print (others)\n",
    "\n",
    "\n",
    "\n"
   ]
  },
  {
   "cell_type": "code",
   "execution_count": null,
   "metadata": {},
   "outputs": [],
   "source": []
  },
  {
   "attachments": {},
   "cell_type": "markdown",
   "metadata": {},
   "source": [
    "# Lab 5-7"
   ]
  },
  {
   "cell_type": "code",
   "execution_count": null,
   "metadata": {},
   "outputs": [],
   "source": [
    "def splitlist(number):\n",
    "    minidx = number.index(min(number))\n",
    "    number[0], number[minidx] = number[minidx], number[0]\n",
    "    first, *others = number\n",
    "    return first, others\n",
    "\n",
    "\n",
    "def main():\n",
    "    number = [2, 3, 0, 5, 4]\n",
    "    others = number\n",
    "    for i in range(len(number)):\n",
    "        first, others = splitlist(others)\n",
    "        number[i] = first\n",
    "\n",
    "    print(number)\n",
    "\n",
    "\n",
    "if __name__ == '__main__':\n",
    "    main()\n"
   ]
  },
  {
   "attachments": {},
   "cell_type": "markdown",
   "metadata": {},
   "source": [
    "# Lab 5-8"
   ]
  },
  {
   "cell_type": "code",
   "execution_count": null,
   "metadata": {},
   "outputs": [],
   "source": [
    "# Call - by - Reference: All mutable Data types (list , set , dictionary)\n",
    "def mylst(n):\n",
    "    n[0] = 100\n",
    "    print(id(n))\n",
    "\n",
    "print (id(number))\n",
    "number = [1,2,3]\n",
    "mylst(number)\n",
    "\n",
    "print (number)\n"
   ]
  },
  {
   "cell_type": "code",
   "execution_count": null,
   "metadata": {},
   "outputs": [],
   "source": [
    "# call - by - value\n",
    "def myint(number):\n",
    "    number = 100\n",
    "\n",
    "number = 1\n",
    "myint(number)\n",
    "print (number)\n"
   ]
  },
  {
   "cell_type": "code",
   "execution_count": null,
   "metadata": {},
   "outputs": [],
   "source": [
    "l1 =  [1,2,3]\n",
    "l2 = l1\n",
    "\n",
    "l2[0] = 100\n",
    "print (l1)\n",
    "print (id(l1))\n",
    "print (id(l2))\n"
   ]
  },
  {
   "cell_type": "code",
   "execution_count": null,
   "metadata": {},
   "outputs": [],
   "source": [
    "l1 = [1,2,3]\n",
    "l2 = l1[0:]\n",
    "\n",
    "l2[0] = 100\n",
    "print (l1)\n",
    "print (id(l1))\n",
    "print (id(l2))\n"
   ]
  },
  {
   "cell_type": "code",
   "execution_count": null,
   "metadata": {},
   "outputs": [],
   "source": [
    "def listtest(l1):\n",
    "    # l1[0] = 100\n",
    "    # l1 = [10, 20, 30]\n",
    "    a, *l1 = l1\n",
    "\n",
    "\n",
    "l2 = [1,2,3]\n",
    "listtest(l2)\n",
    "\n",
    "print(l2)\n",
    "\n"
   ]
  },
  {
   "attachments": {},
   "cell_type": "markdown",
   "metadata": {},
   "source": [
    "# Lab 5-9"
   ]
  },
  {
   "cell_type": "code",
   "execution_count": null,
   "metadata": {},
   "outputs": [],
   "source": [
    "import random\n",
    "\n",
    "\n",
    "def bubble(numbers):\n",
    "    ##################################################\n",
    "    # make your code\n",
    "    ##################################################\n",
    "    for i in range(len(numbers)-1):\n",
    "        if numbers[i] > numbers[i + 1]:\n",
    "            numbers[i], numbers[i+1] = numbers[i+1], numbers[i]\n",
    "\n",
    "\n",
    "\n",
    "def main():\n",
    "#     numbers = [2, 3, 0, 5, 4]\n",
    "    numbers = [5,4,3,2,1]\n",
    "    print(numbers)\n",
    "    bubble(numbers)\n",
    "    print(numbers)\n",
    "\n",
    "#     for i in range(5):\n",
    "#         bubble(numbers)\n",
    "#     print(numbers)\n",
    "\n",
    "    numbers = [random.randint(0, 10) for i in range(10)]\n",
    "    print(numbers)\n",
    "    bubble(numbers)\n",
    "    print(numbers)\n",
    "\n",
    "\n",
    "if __name__ == '__main__':\n",
    "    main()\n"
   ]
  },
  {
   "attachments": {},
   "cell_type": "markdown",
   "metadata": {},
   "source": [
    "# Lab 5-10"
   ]
  },
  {
   "cell_type": "code",
   "execution_count": 18,
   "metadata": {},
   "outputs": [
    {
     "name": "stdout",
     "output_type": "stream",
     "text": [
      "[2, 3, 0, 5, 4, 1, 6, 9, 8, 7]\n",
      "5\n",
      "[7, 8, 9, 6, 1, 4, 5, 0, 3, 2]\n"
     ]
    }
   ],
   "source": [
    "import random\n",
    "\n",
    "\n",
    "def foldandswap(numbers):\n",
    "    #################\n",
    "    # Make your code\n",
    "    #################\n",
    "    N = len(numbers)\n",
    "    NUM = N // 2\n",
    "    print (NUM)\n",
    "    for i in range(NUM):\n",
    "        numbers[i], numbers[N-i-1] = numbers[N-i-1], numbers[i]\n",
    "        \n",
    "\n",
    "\n",
    "def main():\n",
    "    numbers = [2, 3, 0, 5, 4, 1, 6, 9, 8, 7]\n",
    "    print(numbers)\n",
    "    foldandswap(numbers)\n",
    "    print(numbers)\n",
    "\n",
    "#     numbers = [random.randint(0, 10) for i in range(10)]\n",
    "#     print(numbers)\n",
    "#     foldandswap(numbers)\n",
    "#     print(numbers)\n",
    "\n",
    "\n",
    "if __name__ == '__main__':\n",
    "    main()\n"
   ]
  },
  {
   "attachments": {},
   "cell_type": "markdown",
   "metadata": {},
   "source": [
    "# Lab 5-11"
   ]
  },
  {
   "cell_type": "code",
   "execution_count": null,
   "metadata": {},
   "outputs": [],
   "source": [
    "import random\n",
    "\n",
    "\n",
    "def merge(num1, num2):\n",
    "    #################\n",
    "    # Make your code\n",
    "    #################\n",
    "    merged = []\n",
    "    while num1 and num2:\n",
    "        if num1[0] < num2[0]:\n",
    "            merged.append(num1.pop(0))\n",
    "        else:\n",
    "            merged.append(num2.pop(0))\n",
    "    if num1:\n",
    "        merged = merged + num1\n",
    "    if num2: \n",
    "        merged = merged + num2\n",
    "    return merged\n",
    "\n",
    "\n",
    "\n",
    "    #################\n",
    "    # Do not delete return statement\n",
    "    # You should return 'mlst\" as a merged result\n",
    "    return mlist\n",
    "\n",
    "\n",
    "def main():\n",
    "    number1 = [0, 2, 3]\n",
    "    number2 = [1, 4, 5, 6, 9]\n",
    "    retlist = merge(number1, number2)\n",
    "    print(retlist)\n",
    "    # #########################################\n",
    "\n",
    "    n1 = [random.randint(0, 20) for i in range(5)]\n",
    "    n2 = [random.randint(0, 20) for i in range(3)]\n",
    "    n1.sort()\n",
    "    n2.sort()\n",
    "    print(n1)\n",
    "    print(n2)\n",
    "    retlist = merge(n1, n2)\n",
    "    print(retlist)\n",
    "\n",
    "\n",
    "if __name__ == '__main__':\n",
    "    main()\n"
   ]
  },
  {
   "cell_type": "code",
   "execution_count": 27,
   "metadata": {},
   "outputs": [
    {
     "name": "stdout",
     "output_type": "stream",
     "text": [
      "[1, 2, 3, 4, 5, 6, 8, 10]\n"
     ]
    }
   ],
   "source": [
    "num1 = [1,3,5]\n",
    "num2 = [2,4,6,8,10]\n",
    "merged = []\n",
    "while num1 and num2:\n",
    "\tif num1[0] < num2[0]:\n",
    "\t\tmerged.append(num1.pop(0))\n",
    "\telse:\n",
    "\t\tmerged.append(num2.pop(0))\n",
    "if num1:\n",
    "\tmerged = merged + num1\n",
    "if num2: \n",
    "\tmerged = merged + num2\n",
    "\n",
    "print (merged)\n",
    "\n",
    "\n",
    "\n",
    "# for i in range(len(num)):\n",
    "#     print (num.pop())\n"
   ]
  }
 ],
 "metadata": {
  "kernelspec": {
   "display_name": "base",
   "language": "python",
   "name": "python3"
  },
  "language_info": {
   "codemirror_mode": {
    "name": "ipython",
    "version": 3
   },
   "file_extension": ".py",
   "mimetype": "text/x-python",
   "name": "python",
   "nbconvert_exporter": "python",
   "pygments_lexer": "ipython3",
   "version": "3.9.13"
  },
  "orig_nbformat": 4
 },
 "nbformat": 4,
 "nbformat_minor": 2
}
