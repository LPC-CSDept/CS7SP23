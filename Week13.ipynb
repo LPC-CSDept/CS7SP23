{
 "cells": [
  {
   "cell_type": "code",
   "execution_count": 1,
   "metadata": {},
   "outputs": [
    {
     "name": "stdout",
     "output_type": "stream",
     "text": [
      "2\n",
      "6\n",
      "[4]\n"
     ]
    }
   ],
   "source": [
    "def retEven(lst):\n",
    "       evenlst = []\n",
    "       for v in lst:\n",
    "               if v % 2 == 0:\n",
    "                       evenlst.append(v)\n",
    "       return evenlst\n",
    "\n",
    "lst = [1,2,3,4,5,6]\n",
    "first, *others, last = retEven(lst)\n",
    "print (first)\n",
    "print (last)\n",
    "print (others)\n",
    "\n",
    "\n",
    "\n"
   ]
  },
  {
   "cell_type": "code",
   "execution_count": null,
   "metadata": {},
   "outputs": [],
   "source": []
  },
  {
   "attachments": {},
   "cell_type": "markdown",
   "metadata": {},
   "source": [
    "# Lab 5-7"
   ]
  },
  {
   "cell_type": "code",
   "execution_count": 8,
   "metadata": {},
   "outputs": [
    {
     "name": "stdout",
     "output_type": "stream",
     "text": [
      "[0, 2, 3, 4, 5]\n"
     ]
    }
   ],
   "source": [
    "def splitlist(number):\n",
    "    minidx = number.index(min(number))\n",
    "    number[0], number[minidx] = number[minidx], number[0]\n",
    "    first, *others = number\n",
    "    return first, others\n",
    "\n",
    "\n",
    "def main():\n",
    "    number = [2, 3, 0, 5, 4]\n",
    "    others = number\n",
    "    for i in range(len(number)):\n",
    "        first, others = splitlist(others)\n",
    "        number[i] = first\n",
    "\n",
    "    print(number)\n",
    "\n",
    "\n",
    "if __name__ == '__main__':\n",
    "    main()\n"
   ]
  },
  {
   "attachments": {},
   "cell_type": "markdown",
   "metadata": {},
   "source": [
    "# Lab 5-8"
   ]
  },
  {
   "cell_type": "code",
   "execution_count": 15,
   "metadata": {},
   "outputs": [
    {
     "name": "stdout",
     "output_type": "stream",
     "text": [
      "4540112512\n",
      "4466944768\n",
      "[100, 2, 3]\n"
     ]
    }
   ],
   "source": [
    "# Call - by - Reference: All mutable Data types (list , set , dictionary)\n",
    "def mylst(n):\n",
    "    n[0] = 100\n",
    "    print(id(n))\n",
    "\n",
    "print (id(number))\n",
    "number = [1,2,3]\n",
    "mylst(number)\n",
    "\n",
    "print (number)\n"
   ]
  },
  {
   "cell_type": "code",
   "execution_count": 10,
   "metadata": {},
   "outputs": [
    {
     "name": "stdout",
     "output_type": "stream",
     "text": [
      "1\n"
     ]
    }
   ],
   "source": [
    "# call - by - value\n",
    "def myint(number):\n",
    "    number = 100\n",
    "\n",
    "number = 1\n",
    "myint(number)\n",
    "print (number)\n"
   ]
  },
  {
   "cell_type": "code",
   "execution_count": 17,
   "metadata": {},
   "outputs": [
    {
     "name": "stdout",
     "output_type": "stream",
     "text": [
      "[100, 2, 3]\n",
      "4466945536\n",
      "4466945536\n"
     ]
    }
   ],
   "source": [
    "l1 =  [1,2,3]\n",
    "l2 = l1\n",
    "\n",
    "l2[0] = 100\n",
    "print (l1)\n",
    "print (id(l1))\n",
    "print (id(l2))\n"
   ]
  },
  {
   "cell_type": "code",
   "execution_count": 19,
   "metadata": {},
   "outputs": [
    {
     "name": "stdout",
     "output_type": "stream",
     "text": [
      "[1, 2, 3]\n",
      "4466944448\n",
      "4545641408\n"
     ]
    }
   ],
   "source": [
    "l1 = [1,2,3]\n",
    "l2 = l1[0:]\n",
    "\n",
    "l2[0] = 100\n",
    "print (l1)\n",
    "print (id(l1))\n",
    "print (id(l2))\n"
   ]
  },
  {
   "cell_type": "code",
   "execution_count": 21,
   "metadata": {},
   "outputs": [
    {
     "name": "stdout",
     "output_type": "stream",
     "text": [
      "[1, 2, 3]\n"
     ]
    }
   ],
   "source": [
    "def listtest(l1):\n",
    "    # l1[0] = 100\n",
    "    # l1 = [10, 20, 30]\n",
    "    a, *l1 = l1\n",
    "\n",
    "\n",
    "l2 = [1,2,3]\n",
    "listtest(l2)\n",
    "\n",
    "print(l2)\n",
    "\n"
   ]
  },
  {
   "attachments": {},
   "cell_type": "markdown",
   "metadata": {},
   "source": [
    "# Lab 5-9"
   ]
  },
  {
   "cell_type": "code",
   "execution_count": null,
   "metadata": {},
   "outputs": [],
   "source": []
  }
 ],
 "metadata": {
  "kernelspec": {
   "display_name": "base",
   "language": "python",
   "name": "python3"
  },
  "language_info": {
   "codemirror_mode": {
    "name": "ipython",
    "version": 3
   },
   "file_extension": ".py",
   "mimetype": "text/x-python",
   "name": "python",
   "nbconvert_exporter": "python",
   "pygments_lexer": "ipython3",
   "version": "3.9.13"
  },
  "orig_nbformat": 4
 },
 "nbformat": 4,
 "nbformat_minor": 2
}
