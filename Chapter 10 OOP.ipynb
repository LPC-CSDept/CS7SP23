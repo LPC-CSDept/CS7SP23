{
 "cells": [
  {
   "attachments": {},
   "cell_type": "markdown",
   "metadata": {},
   "source": [
    "# Chapter 10. OOP"
   ]
  },
  {
   "cell_type": "code",
   "execution_count": 22,
   "metadata": {},
   "outputs": [
    {
     "name": "stdout",
     "output_type": "stream",
     "text": [
      "John\n",
      "1001\n",
      "[100, 100, 100]\n",
      "Mary\n",
      "1002\n",
      "[90, 90, 90]\n",
      "300\n",
      "270\n"
     ]
    }
   ],
   "source": [
    "# New Terms\n",
    "#\tClass\n",
    "# \tObject or instance\n",
    "# \tattribute / property\n",
    "# \tmethod\n",
    "# \tconstructor\n",
    "#\tself\n",
    "\n",
    "\n",
    "\n",
    "# Class Declaration\n",
    "class Student:\n",
    "\n",
    "\tdef __init__(self, n, i, s):\t# Constructor\n",
    "\t\tself.name = n\n",
    "\t\tself.id = i\n",
    "\t\tself.scores = s\n",
    "\n",
    "\tdef printScore(self):\t# Methods\n",
    "\t\tprint (sum(self.scores))\n",
    "\n",
    "\n",
    "s1 = Student('John', 1001, [100,100,100]) # Object Instanciation\n",
    "print (s1.name)\n",
    "print (s1.id)\n",
    "print (s1.scores)\n",
    "\n",
    "s2 = Student('Mary', 1002, [90,90,90]) # Object Instanciation\n",
    "print (s2.name)\n",
    "print (s2.id)\n",
    "print (s2.scores)\n",
    "\n",
    "s1.printScore()\n",
    "s2.printScore()\n",
    "\n",
    "\n"
   ]
  },
  {
   "cell_type": "code",
   "execution_count": 16,
   "metadata": {},
   "outputs": [
    {
     "name": "stdout",
     "output_type": "stream",
     "text": [
      "Python Program\n"
     ]
    }
   ],
   "source": [
    "mystr = 'Python,Program'\n",
    "mystr= mystr.replace(',',' ')\n",
    "print (mystr)\n"
   ]
  },
  {
   "cell_type": "code",
   "execution_count": 6,
   "metadata": {},
   "outputs": [
    {
     "name": "stdout",
     "output_type": "stream",
     "text": [
      "\u001b[0;31mType:\u001b[0m        Student\n",
      "\u001b[0;31mString form:\u001b[0m <__main__.Student object at 0x1058df250>\n",
      "\u001b[0;31mDocstring:\u001b[0m   <no docstring>\n"
     ]
    }
   ],
   "source": [
    "Student?\n"
   ]
  },
  {
   "cell_type": "code",
   "execution_count": 8,
   "metadata": {},
   "outputs": [
    {
     "name": "stdout",
     "output_type": "stream",
     "text": [
      "\u001b[0;31mType:\u001b[0m        Student\n",
      "\u001b[0;31mString form:\u001b[0m <__main__.Student object at 0x1058df250>\n",
      "\u001b[0;31mDocstring:\u001b[0m   <no docstring>\n"
     ]
    }
   ],
   "source": [
    "s1?"
   ]
  },
  {
   "cell_type": "code",
   "execution_count": 38,
   "metadata": {},
   "outputs": [
    {
     "name": "stdout",
     "output_type": "stream",
     "text": [
      "Height:10 Width:20 Area:200\n",
      "Height:99 Width:99 Area:9801\n",
      "Height:99 Width:99 Area:9801\n",
      "3\n"
     ]
    }
   ],
   "source": [
    "# Lab 1\n",
    "\n",
    "class Rectangle:\n",
    "    numofRect = 0 # Class Attribute\n",
    "\n",
    "    def __init__(self, h, w):\n",
    "        self.height = h\n",
    "        self.width = w\n",
    "        Rectangle.numofRect += 1\n",
    "\n",
    "    def __str__(self):\n",
    "        return f'Height:{self.height} Width:{self.width} Area:{self.getArea()}'\n",
    "\n",
    "    def getArea(self):\n",
    "        area = self.width * self.height\n",
    "        return area\n",
    "\n",
    "\n",
    "r1 = Rectangle(10, 20)\n",
    "r2 = Rectangle(99, 99)\n",
    "r3 = Rectangle(99, 99)\n",
    "print (r1) \n",
    "print (r1.height)\n",
    "print (r2) \n",
    "print (r3) \n",
    "\n",
    "print(Rectangle.numofRect)\n"
   ]
  },
  {
   "attachments": {},
   "cell_type": "markdown",
   "metadata": {},
   "source": [
    "## Getter and Setter"
   ]
  },
  {
   "cell_type": "code",
   "execution_count": 48,
   "metadata": {},
   "outputs": [
    {
     "name": "stdout",
     "output_type": "stream",
     "text": [
      "Height:10 Width:20 Area:200\n",
      "Through the get_h\n",
      "10\n",
      "10\n",
      "Height:99999999999 Width:20 Area:1999999999980\n"
     ]
    }
   ],
   "source": [
    "\n",
    "class Rectangle:\n",
    "    numofRect = 0 # Class Attribute\n",
    "\n",
    "    def __init__(self, h, w):\n",
    "        self._height = h\n",
    "        self._width = w\n",
    "        Rectangle.numofRect += 1\n",
    "\n",
    "    def get_h(self):\n",
    "        print ('Through the get_h')\n",
    "        return self._height\n",
    "    def set_h(self, h):\n",
    "        self._height = h\n",
    "        \n",
    "    def get_w(self):\n",
    "        return self._width\n",
    "    def set_w(self, w):\n",
    "        self._width = w\n",
    "\n",
    "    height = property(get_h, set_h)\n",
    "    width = property(get_w, set_w)\n",
    "\n",
    "    def __str__(self):\n",
    "        return f'Height:{self._height} Width:{self._width} Area:{self.getArea()}'\n",
    "\n",
    "    def getArea(self):\n",
    "        area = self._width * self._height\n",
    "        return area\n",
    "\n",
    "r1 = Rectangle(10, 20)\n",
    "print (r1)\n",
    "print (r1.height) # print line 11\n",
    "print (r1._height) # not printing line 11\n",
    "r1.set_h(100)\n",
    "r1.height = 1000\n",
    "r1._height = 99999999999\n",
    "print (r1)\n"
   ]
  }
 ],
 "metadata": {
  "kernelspec": {
   "display_name": "base",
   "language": "python",
   "name": "python3"
  },
  "language_info": {
   "codemirror_mode": {
    "name": "ipython",
    "version": 3
   },
   "file_extension": ".py",
   "mimetype": "text/x-python",
   "name": "python",
   "nbconvert_exporter": "python",
   "pygments_lexer": "ipython3",
   "version": "3.9.13"
  },
  "orig_nbformat": 4
 },
 "nbformat": 4,
 "nbformat_minor": 2
}
