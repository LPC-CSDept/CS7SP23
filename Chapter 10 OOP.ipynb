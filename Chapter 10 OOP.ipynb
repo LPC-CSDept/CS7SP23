{
 "cells": [
  {
   "attachments": {},
   "cell_type": "markdown",
   "metadata": {},
   "source": [
    "# Chapter 10. OOP"
   ]
  },
  {
   "cell_type": "code",
   "execution_count": 22,
   "metadata": {},
   "outputs": [
    {
     "name": "stdout",
     "output_type": "stream",
     "text": [
      "John\n",
      "1001\n",
      "[100, 100, 100]\n",
      "Mary\n",
      "1002\n",
      "[90, 90, 90]\n",
      "300\n",
      "270\n"
     ]
    }
   ],
   "source": [
    "# New Terms\n",
    "#\tClass\n",
    "# \tObject or instance\n",
    "# \tattribute / property\n",
    "# \tmethod\n",
    "# \tconstructor\n",
    "#\tself\n",
    "\n",
    "\n",
    "\n",
    "# Class Declaration\n",
    "class Student:\n",
    "\n",
    "\tdef __init__(self, n, i, s):\t# Constructor\n",
    "\t\tself.name = n\n",
    "\t\tself.id = i\n",
    "\t\tself.scores = s\n",
    "\n",
    "\tdef printScore(self):\t# Methods\n",
    "\t\tprint (sum(self.scores))\n",
    "\n",
    "\n",
    "s1 = Student('John', 1001, [100,100,100]) # Object Instanciation\n",
    "print (s1.name)\n",
    "print (s1.id)\n",
    "print (s1.scores)\n",
    "\n",
    "s2 = Student('Mary', 1002, [90,90,90]) # Object Instanciation\n",
    "print (s2.name)\n",
    "print (s2.id)\n",
    "print (s2.scores)\n",
    "\n",
    "s1.printScore()\n",
    "s2.printScore()\n",
    "\n",
    "\n"
   ]
  },
  {
   "cell_type": "code",
   "execution_count": 16,
   "metadata": {},
   "outputs": [
    {
     "name": "stdout",
     "output_type": "stream",
     "text": [
      "Python Program\n"
     ]
    }
   ],
   "source": [
    "mystr = 'Python,Program'\n",
    "mystr= mystr.replace(',',' ')\n",
    "print (mystr)\n"
   ]
  },
  {
   "cell_type": "code",
   "execution_count": 6,
   "metadata": {},
   "outputs": [
    {
     "name": "stdout",
     "output_type": "stream",
     "text": [
      "\u001b[0;31mType:\u001b[0m        Student\n",
      "\u001b[0;31mString form:\u001b[0m <__main__.Student object at 0x1058df250>\n",
      "\u001b[0;31mDocstring:\u001b[0m   <no docstring>\n"
     ]
    }
   ],
   "source": [
    "Student?\n"
   ]
  },
  {
   "cell_type": "code",
   "execution_count": 8,
   "metadata": {},
   "outputs": [
    {
     "name": "stdout",
     "output_type": "stream",
     "text": [
      "\u001b[0;31mType:\u001b[0m        Student\n",
      "\u001b[0;31mString form:\u001b[0m <__main__.Student object at 0x1058df250>\n",
      "\u001b[0;31mDocstring:\u001b[0m   <no docstring>\n"
     ]
    }
   ],
   "source": [
    "s1?"
   ]
  },
  {
   "cell_type": "code",
   "execution_count": 38,
   "metadata": {},
   "outputs": [
    {
     "name": "stdout",
     "output_type": "stream",
     "text": [
      "Height:10 Width:20 Area:200\n",
      "Height:99 Width:99 Area:9801\n",
      "Height:99 Width:99 Area:9801\n",
      "3\n"
     ]
    }
   ],
   "source": [
    "# Lab 1\n",
    "\n",
    "class Rectangle:\n",
    "    numofRect = 0 # Class Attribute\n",
    "\n",
    "    def __init__(self, h, w):\n",
    "        self.height = h\n",
    "        self.width = w\n",
    "        Rectangle.numofRect += 1\n",
    "\n",
    "    def __str__(self):\n",
    "        return f'Height:{self.height} Width:{self.width} Area:{self.getArea()}'\n",
    "\n",
    "    def getArea(self):\n",
    "        area = self.width * self.height\n",
    "        return area\n",
    "\n",
    "\n",
    "r1 = Rectangle(10, 20)\n",
    "r2 = Rectangle(99, 99)\n",
    "r3 = Rectangle(99, 99)\n",
    "print (r1) \n",
    "print (r1.height)\n",
    "print (r2) \n",
    "print (r3) \n",
    "\n",
    "print(Rectangle.numofRect)\n"
   ]
  },
  {
   "attachments": {},
   "cell_type": "markdown",
   "metadata": {},
   "source": [
    "## Getter and Setter"
   ]
  },
  {
   "cell_type": "code",
   "execution_count": 48,
   "metadata": {},
   "outputs": [
    {
     "name": "stdout",
     "output_type": "stream",
     "text": [
      "Height:10 Width:20 Area:200\n",
      "Through the get_h\n",
      "10\n",
      "10\n",
      "Height:99999999999 Width:20 Area:1999999999980\n"
     ]
    }
   ],
   "source": [
    "\n",
    "class Rectangle:\n",
    "    numofRect = 0 # Class Attribute\n",
    "\n",
    "    def __init__(self, h, w):\n",
    "        self._height = h\n",
    "        self._width = w\n",
    "        Rectangle.numofRect += 1\n",
    "\n",
    "    def get_h(self):\n",
    "        print ('Through the get_h')\n",
    "        return self._height\n",
    "    def set_h(self, h):\n",
    "        self._height = h\n",
    "        \n",
    "    def get_w(self):\n",
    "        return self._width\n",
    "    def set_w(self, w):\n",
    "        self._width = w\n",
    "\n",
    "    height = property(get_h, set_h)\n",
    "    width = property(get_w, set_w)\n",
    "\n",
    "    def __str__(self):\n",
    "        return f'Height:{self._height} Width:{self._width} Area:{self.getArea()}'\n",
    "\n",
    "    def getArea(self):\n",
    "        area = self._width * self._height\n",
    "        return area\n",
    "\n",
    "r1 = Rectangle(10, 20)\n",
    "print (r1)\n",
    "print (r1.height) # print line 11\n",
    "print (r1._height) # not printing line 11\n",
    "r1.set_h(100)\n",
    "r1.height = 1000\n",
    "r1._height = 99999999999\n",
    "print (r1)\n"
   ]
  },
  {
   "cell_type": "code",
   "execution_count": 13,
   "metadata": {},
   "outputs": [
    {
     "name": "stdout",
     "output_type": "stream",
     "text": [
      "Width:10 Height:20\n"
     ]
    }
   ],
   "source": [
    "## Lab 2\n",
    "\n",
    "class Rectangle:\n",
    "    def __init__(self, w, h):\n",
    "        self._height = h\n",
    "        self._width = w\n",
    "    def get_width(self):\n",
    "        print ('Through the get_width')\n",
    "        return self._width\n",
    "    def set_width(self,w):\n",
    "        print ('Through the set_width')\n",
    "        self._width = w\n",
    "    def get_height(self):\n",
    "        print ('Through the get_hieght')\n",
    "        return self._height\n",
    "    def set_height(self,h):\n",
    "        print ('Through the set_height')\n",
    "        self._height = h\n",
    "        \n",
    "    width = property(get_width, set_width)\n",
    "    height = property(get_height, set_height)\n",
    "\n",
    "    def __str__(self):\n",
    "        return f'Width:{self._width} Height:{self._height}'\n",
    "\n",
    "r = Rectangle(10, 20)\n",
    "print (r)\n",
    "# print (r.width)\n",
    "# print (r.height)\n",
    "# r.width = 100\n",
    "# r.height = 200\n",
    "# print (r.get_width())\n",
    "# print (r.get_height())\n",
    "# print (r._width)\n",
    "\n",
    "# r.get_height()\n"
   ]
  },
  {
   "cell_type": "code",
   "execution_count": null,
   "metadata": {},
   "outputs": [],
   "source": [
    "### Lab 5\n",
    "\n",
    "\n",
    "class Student:\n",
    "    numofStudent = 0\n",
    "\n",
    "    def __init__(self, sid, name):\n",
    "        self._id = sid\n",
    "        self._name = name\n",
    "        Student.numofStudent += 1\n",
    "\n",
    "    @property\n",
    "    def id(self):\n",
    "        return self._id\n",
    "\n",
    "    @id.setter\n",
    "    def id(self, id):\n",
    "        self._id = id\n",
    "\n",
    "    @property\n",
    "    def name(self):\n",
    "        return self._name\n",
    "\n",
    "    @name.setter\n",
    "    def name(self, name):\n",
    "        self._name = name\n",
    "\n",
    "    def __del__(self):\n",
    "        Student.numofStudent -= 1\n",
    "        del self\n",
    "\n",
    "    def __str__(self):\n",
    "        return (f'Student id: {self.id:>10} \\t name: {self.name:>10}')\n",
    "\n",
    "\n",
    "def makeStudent(student_dict_list):\n",
    "    slist = []\n",
    "    for student in student_dict_list:\n",
    "        sid = student['id']\n",
    "        name = student['name']\n",
    "        s = Student(sid, name)\n",
    "        slist.append(s)\n",
    "    return slist\n",
    "\n",
    "\n",
    "def deleteOneStudent(slist, did):\n",
    "    for i, student in enumerate(slist):\n",
    "        if student.id == did:\n",
    "            print('-->Deleted', student)\n",
    "            del student\n",
    "            del slist[i]\n",
    "            # Student.numofStudent -= 1\n",
    "\n",
    "\n",
    "def main():\n",
    "\n",
    "    student_dict_list = [{'id': 1001, 'name': 'John'},\n",
    "                         {'id': 1002, 'name': 'James'},\n",
    "                         {'id': 1003, 'name': 'Mark'},\n",
    "                         {'id': 1004, 'name': 'Matthew'},\n",
    "                         {'id': 1005, 'name': 'Arnold'}]\n",
    "    slist = makeStudent(student_dict_list)\n",
    "    print(f'\\n**** Total number of students: {Student.numofStudent}')\n",
    "    for s in slist:\n",
    "        print(s)\n",
    "\n",
    "    # Delete one object\n",
    "    did = 1003\n",
    "    deleteOneStudent(slist, did)\n",
    "    print(f'\\n**** Total number of students: {Student.numofStudent}')\n",
    "    for s in slist:\n",
    "        print(s)\n",
    "\n",
    "\n",
    "if __name__ == '__main__':\n",
    "    main()\n"
   ]
  },
  {
   "cell_type": "code",
   "execution_count": null,
   "metadata": {},
   "outputs": [],
   "source": [
    "## Lab 6\n",
    "\n",
    "\n",
    "class Rectangle:\n",
    "    #########################################\n",
    "    # Code your program here\n",
    "    #########################################\n",
    "    def __init__(self, w, h):\n",
    "        self.width = w\n",
    "        self.height = h\n",
    "\n",
    "    @property\n",
    "    def width(self):\n",
    "        return self._width\n",
    "\n",
    "    @width.setter\n",
    "    def width(self, w):\n",
    "        self._width = w\n",
    "\n",
    "    @property\n",
    "    def height(self):\n",
    "        return self._height\n",
    "\n",
    "    @height.setter\n",
    "    def height(self, h):\n",
    "        self._height = h\n",
    "\n",
    "    def __str__(self):\n",
    "        return f'Width = {self.width} Height={self.height}'\n",
    "\n",
    "\n",
    "    def __gt__(self, other):\n",
    "        return self.width * self.height > other.width * other.height\n",
    "\n",
    "    def __lt__(self, other):\n",
    "        return self.width * self.height < other.width * other.height\n",
    "\n",
    "\n",
    "def main():\n",
    "    r1 = Rectangle(10, 20)\n",
    "    r2 = Rectangle(100, 200)\n",
    "    print(r1)\n",
    "    print(r2)\n",
    "    r1._width = 99\n",
    "    r1._height = 99\n",
    "    print(r1)\n",
    "\n",
    "    if r1 > r2:\n",
    "        print('Rectangle r1 is greater than r2')\n",
    "    else:\n",
    "        print('Rectangle r1 is not greater than r2')\n",
    "    if r1 < r2:\n",
    "        print('Rectangle r1 is less than r2')\n",
    "    else:\n",
    "        print('Rectangle r1 is not less than r2')\n",
    "\n",
    "\n",
    "if __name__ == '__main__':\n",
    "    main()\n"
   ]
  },
  {
   "cell_type": "code",
   "execution_count": null,
   "metadata": {},
   "outputs": [],
   "source": [
    "# Final\n",
    "\n",
    "# how to read the file and save it as a DF\n",
    "\n",
    "import pandas as pd\n",
    "\n",
    "def makeList(filename):\n",
    "    df = pd.read_csv(filename, delimiter='\\s+')\n",
    "    namelist = []\n",
    "    for i, row in df.iterrows():\n",
    "        name = Names(row['Name1'], 'Male', int(row['Count1'].replace(',', '')))\n",
    "        namelist.append(name)\n",
    "        name = Names(row['Name2'], 'Female', int(\n",
    "            row['Count2'].replace(',', '')))\n",
    "        namelist.append(name)\n",
    "        "
   ]
  }
 ],
 "metadata": {
  "kernelspec": {
   "display_name": "base",
   "language": "python",
   "name": "python3"
  },
  "language_info": {
   "codemirror_mode": {
    "name": "ipython",
    "version": 3
   },
   "file_extension": ".py",
   "mimetype": "text/x-python",
   "name": "python",
   "nbconvert_exporter": "python",
   "pygments_lexer": "ipython3",
   "version": "3.9.13"
  },
  "orig_nbformat": 4
 },
 "nbformat": 4,
 "nbformat_minor": 2
}
