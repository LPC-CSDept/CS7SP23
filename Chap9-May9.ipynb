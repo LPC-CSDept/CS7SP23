{
 "cells": [
  {
   "attachments": {},
   "cell_type": "markdown",
   "metadata": {},
   "source": [
    "# Chapter 9. Dictionary\n",
    "\n",
    "### Lab 6 "
   ]
  },
  {
   "cell_type": "code",
   "execution_count": 28,
   "metadata": {},
   "outputs": [
    {
     "data": {
      "text/html": [
       "<div>\n",
       "<style scoped>\n",
       "    .dataframe tbody tr th:only-of-type {\n",
       "        vertical-align: middle;\n",
       "    }\n",
       "\n",
       "    .dataframe tbody tr th {\n",
       "        vertical-align: top;\n",
       "    }\n",
       "\n",
       "    .dataframe thead th {\n",
       "        text-align: right;\n",
       "    }\n",
       "</style>\n",
       "<table border=\"1\" class=\"dataframe\">\n",
       "  <thead>\n",
       "    <tr style=\"text-align: right;\">\n",
       "      <th></th>\n",
       "      <th>A</th>\n",
       "      <th>B</th>\n",
       "      <th>C</th>\n",
       "      <th>D</th>\n",
       "      <th>E</th>\n",
       "      <th>F</th>\n",
       "    </tr>\n",
       "  </thead>\n",
       "  <tbody>\n",
       "    <tr>\n",
       "      <th>0</th>\n",
       "      <td>1.0</td>\n",
       "      <td>James</td>\n",
       "      <td>A</td>\n",
       "      <td>10</td>\n",
       "      <td>0</td>\n",
       "      <td>foo</td>\n",
       "    </tr>\n",
       "    <tr>\n",
       "      <th>1</th>\n",
       "      <td>1.0</td>\n",
       "      <td>John</td>\n",
       "      <td>B</td>\n",
       "      <td>20</td>\n",
       "      <td>1</td>\n",
       "      <td>foo</td>\n",
       "    </tr>\n",
       "    <tr>\n",
       "      <th>2</th>\n",
       "      <td>1.0</td>\n",
       "      <td>Mary</td>\n",
       "      <td>C</td>\n",
       "      <td>30</td>\n",
       "      <td>2</td>\n",
       "      <td>foo</td>\n",
       "    </tr>\n",
       "    <tr>\n",
       "      <th>3</th>\n",
       "      <td>1.0</td>\n",
       "      <td>Bill</td>\n",
       "      <td>D</td>\n",
       "      <td>40</td>\n",
       "      <td>3</td>\n",
       "      <td>foo</td>\n",
       "    </tr>\n",
       "  </tbody>\n",
       "</table>\n",
       "</div>"
      ],
      "text/plain": [
       "     A      B  C   D  E    F\n",
       "0  1.0  James  A  10  0  foo\n",
       "1  1.0   John  B  20  1  foo\n",
       "2  1.0   Mary  C  30  2  foo\n",
       "3  1.0   Bill  D  40  3  foo"
      ]
     },
     "execution_count": 28,
     "metadata": {},
     "output_type": "execute_result"
    }
   ],
   "source": [
    "# DataFrame Example\n",
    "\n",
    "import pandas as pd\n",
    "\n",
    "# df1 = pd.DataFrame(\n",
    "#     {\n",
    "#         \"A\": 1.0,\n",
    "#         \"B\": pd.Timestamp(\"20130102\"),\n",
    "#         \"C\": pd.Series(1, index=list(range(4)), dtype=\"float32\"),\n",
    "#         # \"D\": np.array([3] * 4, dtype=\"int32\"),\n",
    "#         \"D\": [10, 20, 30, 40],\n",
    "#         \"E\": pd.Categorical([\"test\", \"train\", \"test\", \"train\"]),\n",
    "#         \"F\": \"foo\",\n",
    "#     }\n",
    "# )\n",
    "\n",
    "df1 = pd.DataFrame(\n",
    "    {\n",
    "        \"A\": 1.0,\n",
    "        \"B\": ['James', 'John', 'Mary', 'Bill'],\n",
    "        \"C\": ['A', 'B', 'C', 'D'],\n",
    "        # \"D\": np.array([3] * 4, dtype=\"int32\"),\n",
    "        \"D\": [10, 20, 30, 40],\n",
    "        \"E\": range(4),\n",
    "        \"F\": \"foo\",\n",
    "    }\n",
    ")\n",
    "\n",
    "df1"
   ]
  },
  {
   "cell_type": "code",
   "execution_count": 29,
   "metadata": {},
   "outputs": [
    {
     "data": {
      "text/html": [
       "<div>\n",
       "<style scoped>\n",
       "    .dataframe tbody tr th:only-of-type {\n",
       "        vertical-align: middle;\n",
       "    }\n",
       "\n",
       "    .dataframe tbody tr th {\n",
       "        vertical-align: top;\n",
       "    }\n",
       "\n",
       "    .dataframe thead th {\n",
       "        text-align: right;\n",
       "    }\n",
       "</style>\n",
       "<table border=\"1\" class=\"dataframe\">\n",
       "  <thead>\n",
       "    <tr style=\"text-align: right;\">\n",
       "      <th></th>\n",
       "      <th>A</th>\n",
       "      <th>B</th>\n",
       "      <th>C</th>\n",
       "    </tr>\n",
       "  </thead>\n",
       "  <tbody>\n",
       "    <tr>\n",
       "      <th>0</th>\n",
       "      <td>a</td>\n",
       "      <td>0</td>\n",
       "      <td>0</td>\n",
       "    </tr>\n",
       "    <tr>\n",
       "      <th>1</th>\n",
       "      <td>b</td>\n",
       "      <td>1</td>\n",
       "      <td>1</td>\n",
       "    </tr>\n",
       "    <tr>\n",
       "      <th>2</th>\n",
       "      <td>c</td>\n",
       "      <td>2</td>\n",
       "      <td>2</td>\n",
       "    </tr>\n",
       "  </tbody>\n",
       "</table>\n",
       "</div>"
      ],
      "text/plain": [
       "   A  B  C\n",
       "0  a  0  0\n",
       "1  b  1  1\n",
       "2  c  2  2"
      ]
     },
     "execution_count": 29,
     "metadata": {},
     "output_type": "execute_result"
    }
   ],
   "source": [
    "df2 = pd.DataFrame(\n",
    "    {\n",
    "        'A': ['a', 'b', 'c'],\n",
    "        'B': range(3),\n",
    "        'C': [0,1,2]\n",
    "    }\n",
    ")\n",
    "df2"
   ]
  },
  {
   "cell_type": "code",
   "execution_count": 30,
   "metadata": {},
   "outputs": [
    {
     "data": {
      "text/plain": [
       "Index(['A', 'B', 'C'], dtype='object')"
      ]
     },
     "execution_count": 30,
     "metadata": {},
     "output_type": "execute_result"
    }
   ],
   "source": [
    "df2.columns"
   ]
  },
  {
   "cell_type": "code",
   "execution_count": 31,
   "metadata": {},
   "outputs": [
    {
     "data": {
      "text/plain": [
       "0    a\n",
       "1    b\n",
       "2    c\n",
       "Name: A, dtype: object"
      ]
     },
     "execution_count": 31,
     "metadata": {},
     "output_type": "execute_result"
    }
   ],
   "source": [
    "df2['A']"
   ]
  },
  {
   "cell_type": "code",
   "execution_count": 32,
   "metadata": {},
   "outputs": [
    {
     "data": {
      "text/plain": [
       "2"
      ]
     },
     "execution_count": 32,
     "metadata": {},
     "output_type": "execute_result"
    }
   ],
   "source": [
    "df2.iloc[2]['B']"
   ]
  },
  {
   "cell_type": "code",
   "execution_count": 36,
   "metadata": {},
   "outputs": [
    {
     "name": "stdout",
     "output_type": "stream",
     "text": [
      "(4, 5)\n",
      "4\n",
      "5\n"
     ]
    },
    {
     "data": {
      "text/html": [
       "<div>\n",
       "<style scoped>\n",
       "    .dataframe tbody tr th:only-of-type {\n",
       "        vertical-align: middle;\n",
       "    }\n",
       "\n",
       "    .dataframe tbody tr th {\n",
       "        vertical-align: top;\n",
       "    }\n",
       "\n",
       "    .dataframe thead th {\n",
       "        text-align: right;\n",
       "    }\n",
       "</style>\n",
       "<table border=\"1\" class=\"dataframe\">\n",
       "  <thead>\n",
       "    <tr style=\"text-align: right;\">\n",
       "      <th></th>\n",
       "      <th>Name</th>\n",
       "      <th>ID</th>\n",
       "      <th>Math</th>\n",
       "      <th>English</th>\n",
       "      <th>Computer</th>\n",
       "    </tr>\n",
       "  </thead>\n",
       "  <tbody>\n",
       "    <tr>\n",
       "      <th>0</th>\n",
       "      <td>John Doe</td>\n",
       "      <td>2022-0002</td>\n",
       "      <td>100</td>\n",
       "      <td>90</td>\n",
       "      <td>90</td>\n",
       "    </tr>\n",
       "    <tr>\n",
       "      <th>1</th>\n",
       "      <td>Jane Doe</td>\n",
       "      <td>2023-0001</td>\n",
       "      <td>70</td>\n",
       "      <td>100</td>\n",
       "      <td>90</td>\n",
       "    </tr>\n",
       "    <tr>\n",
       "      <th>2</th>\n",
       "      <td>Mary Smith</td>\n",
       "      <td>2023-0002</td>\n",
       "      <td>100</td>\n",
       "      <td>100</td>\n",
       "      <td>100</td>\n",
       "    </tr>\n",
       "    <tr>\n",
       "      <th>3</th>\n",
       "      <td>Bill Watson</td>\n",
       "      <td>2023-0003</td>\n",
       "      <td>100</td>\n",
       "      <td>75</td>\n",
       "      <td>85</td>\n",
       "    </tr>\n",
       "  </tbody>\n",
       "</table>\n",
       "</div>"
      ],
      "text/plain": [
       "          Name         ID  Math  English  Computer\n",
       "0     John Doe  2022-0002   100       90        90\n",
       "1     Jane Doe  2023-0001    70      100        90\n",
       "2   Mary Smith  2023-0002   100      100       100\n",
       "3  Bill Watson  2023-0003   100       75        85"
      ]
     },
     "execution_count": 36,
     "metadata": {},
     "output_type": "execute_result"
    }
   ],
   "source": [
    "df = pd.read_excel('students.xlsx')\n",
    "print (df.shape)\n",
    "print (df.shape[0])\n",
    "print (df.shape[1])\n",
    "df\n"
   ]
  },
  {
   "cell_type": "code",
   "execution_count": 39,
   "metadata": {},
   "outputs": [
    {
     "name": "stdout",
     "output_type": "stream",
     "text": [
      "John Doe 2022-0002 100 90 90 \n"
     ]
    }
   ],
   "source": [
    "for v in df.iloc[0]:\n",
    "    print (v, end=' ')\n",
    "print () \n"
   ]
  },
  {
   "cell_type": "code",
   "execution_count": 46,
   "metadata": {},
   "outputs": [
    {
     "data": {
      "text/plain": [
       "Name         John Doe\n",
       "ID          2022-0002\n",
       "Math              100\n",
       "English            90\n",
       "Computer           90\n",
       "Name: 0, dtype: object"
      ]
     },
     "execution_count": 46,
     "metadata": {},
     "output_type": "execute_result"
    }
   ],
   "source": [
    "df.iloc[0]"
   ]
  },
  {
   "cell_type": "code",
   "execution_count": 47,
   "metadata": {},
   "outputs": [
    {
     "data": {
      "text/plain": [
       "'John Doe'"
      ]
     },
     "execution_count": 47,
     "metadata": {},
     "output_type": "execute_result"
    }
   ],
   "source": [
    "df.iloc[0]['Name']"
   ]
  },
  {
   "cell_type": "code",
   "execution_count": 57,
   "metadata": {},
   "outputs": [
    {
     "name": "stdout",
     "output_type": "stream",
     "text": [
      "Index(['Name', 'ID', 'Math', 'English', 'Computer'], dtype='object')\n",
      "Name ID Math English Computer Name ID Math English Computer \n",
      "{'Name': 'John Doe', 'ID': '2022-0002', 'Math': 100, 'English': 90, 'Computer': 90}\n",
      "{'Name': 'Jane Doe', 'ID': '2023-0001', 'Math': 70, 'English': 100, 'Computer': 90}\n"
     ]
    }
   ],
   "source": [
    "keys = df.columns\n",
    "print (keys)\n",
    "\n",
    "for k in keys:\n",
    "    print (k, end = ' ')\n",
    "\n",
    "keys = list(keys)\n",
    "\n",
    "for i in range(len(keys)):\n",
    "    print (keys[i], end=' ')\n",
    "print ()\n",
    "\n",
    "d1 = {}\n",
    "d1[keys[0]] = df.iloc[0][keys[0]]\n",
    "d1[keys[1]] = df.iloc[0][keys[1]]\n",
    "d1[keys[2]] = df.iloc[0][keys[2]]\n",
    "d1[keys[3]] = df.iloc[0][keys[3]]\n",
    "d1[keys[4]] = df.iloc[0][keys[4]]\n",
    "print (d1)\n",
    "\n",
    "d2 = {}\n",
    "d2[keys[0]] = df.iloc[1][keys[0]]\n",
    "d2[keys[1]] = df.iloc[1][keys[1]]\n",
    "d2[keys[2]] = df.iloc[1][keys[2]]\n",
    "d2[keys[3]] = df.iloc[1][keys[3]]\n",
    "d2[keys[4]] = df.iloc[1][keys[4]]\n",
    "print (d2)"
   ]
  },
  {
   "cell_type": "code",
   "execution_count": 66,
   "metadata": {},
   "outputs": [
    {
     "name": "stdout",
     "output_type": "stream",
     "text": [
      "{'Name': 'John Doe', 'ID': '2022-0002', 'Math': 100, 'English': 90, 'Computer': 90}\n",
      "{'Name': 'Jane Doe', 'ID': '2023-0001', 'Math': 70, 'English': 100, 'Computer': 90}\n",
      "{'Name': 'Mary Smith', 'ID': '2023-0002', 'Math': 100, 'English': 100, 'Computer': 100}\n",
      "{'Name': 'Bill Watson', 'ID': '2023-0003', 'Math': 100, 'English': 75, 'Computer': 85}\n",
      "[{'Name': 'Bill Watson', 'ID': '2023-0003', 'Math': 100, 'English': 75, 'Computer': 85}, {'Name': 'Bill Watson', 'ID': '2023-0003', 'Math': 100, 'English': 75, 'Computer': 85}, {'Name': 'Bill Watson', 'ID': '2023-0003', 'Math': 100, 'English': 75, 'Computer': 85}, {'Name': 'Bill Watson', 'ID': '2023-0003', 'Math': 100, 'English': 75, 'Computer': 85}]\n"
     ]
    }
   ],
   "source": [
    "keys = df.columns\n",
    "students = []\n",
    "d1 = {}\n",
    "for ridx in range(df.shape[0]):\n",
    "\tfor i, v in enumerate(df.iloc[ridx]):\n",
    "\t\td1[keys[i]] = df.iloc[ridx][keys[i]]\n",
    "\tprint (d1)\n",
    "\tstudents.append(d1)\n",
    "\n",
    "print (students)\n",
    "\n",
    "    "
   ]
  },
  {
   "cell_type": "code",
   "execution_count": 72,
   "metadata": {},
   "outputs": [
    {
     "name": "stdout",
     "output_type": "stream",
     "text": [
      "10 20 30 \n",
      "10 20 30 \n",
      "0 10\n",
      "1 20\n",
      "2 30\n"
     ]
    }
   ],
   "source": [
    "# Enum\n",
    "\n",
    "l = [10, 20, 30]\n",
    "\n",
    "for v in l:\n",
    "    print (v, end = ' ')\n",
    "print ()\n",
    "for i in range(len(l)):\n",
    "    print (l[i], end = ' ')\n",
    "print ()\n",
    "\n",
    "for i, v in enumerate(l):\n",
    "    print (i, v)\n"
   ]
  },
  {
   "attachments": {},
   "cell_type": "markdown",
   "metadata": {},
   "source": [
    "# Lab 6\n",
    "\n",
    "## makeStudentDictionary()\n"
   ]
  },
  {
   "cell_type": "code",
   "execution_count": 87,
   "metadata": {},
   "outputs": [
    {
     "name": "stdout",
     "output_type": "stream",
     "text": [
      "Name -> John Doe \t ID -> 2022-0002 \t Math -> 100 \t English -> 90 \t Computer -> 90 \t \n",
      "Name -> Jane Doe \t ID -> 2023-0001 \t Math -> 70 \t English -> 100 \t Computer -> 90 \t \n",
      "Name -> Mary Smith \t ID -> 2023-0002 \t Math -> 100 \t English -> 100 \t Computer -> 100 \t \n",
      "Name -> Bill Watson \t ID -> 2023-0003 \t Math -> 100 \t English -> 75 \t Computer -> 85 \t \n",
      "[100, 75, 85]\n"
     ]
    }
   ],
   "source": [
    "import pandas as pd\n",
    "\n",
    "def makeStudentDicitonary():\n",
    "\tdf = pd.read_excel('students.xlsx')\n",
    "\tkeys = df.columns\n",
    "\tstudents = []\n",
    "\tfor ridx in range(df.shape[0]):\n",
    "\t\td1 = {}\n",
    "\t\tfor i, v in enumerate(df.iloc[ridx]):\n",
    "\t\t\td1[keys[i]] = df.iloc[ridx][keys[i]]\n",
    "\t\t# print (d1)\n",
    "\t\tstudents.append(d1)\n",
    "\treturn students\n",
    "\n",
    "def printStudnet(students):\n",
    "\t# for i in range(len(students)):\n",
    "\tfor student in students:\n",
    "\t\tfor k, v in student.items():\n",
    "\t\t\tprint (f'{k} -> {v} \\t', end= ' ')\n",
    "\t\tprint ()\n",
    "def findStudent(students, id):\n",
    "\tscore = []\n",
    "\tfor student in students:\n",
    "\t\tif student['ID'] == id:\n",
    "\t\t\tscore.append(student['Math'])\n",
    "\t\t\tscore.append(student['English'])\n",
    "\t\t\tscore.append(student['Computer'])\n",
    "\treturn score\n",
    "\n",
    "students = makeStudentDicitonary()\n",
    "printStudnet(students) \n",
    "score = findStudent(students, '2023-0003') # Query\n",
    "print (score)\n",
    "\n",
    "# print (students)"
   ]
  },
  {
   "cell_type": "code",
   "execution_count": null,
   "metadata": {},
   "outputs": [],
   "source": []
  }
 ],
 "metadata": {
  "kernelspec": {
   "display_name": "base",
   "language": "python",
   "name": "python3"
  },
  "language_info": {
   "codemirror_mode": {
    "name": "ipython",
    "version": 3
   },
   "file_extension": ".py",
   "mimetype": "text/x-python",
   "name": "python",
   "nbconvert_exporter": "python",
   "pygments_lexer": "ipython3",
   "version": "3.9.13"
  },
  "orig_nbformat": 4
 },
 "nbformat": 4,
 "nbformat_minor": 2
}
