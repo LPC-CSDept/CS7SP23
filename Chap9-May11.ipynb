{
 "cells": [
  {
   "attachments": {},
   "cell_type": "markdown",
   "metadata": {},
   "source": [
    "# Chapter 9\n",
    "## May 11\n",
    "\n"
   ]
  },
  {
   "attachments": {},
   "cell_type": "markdown",
   "metadata": {},
   "source": [
    "### zip"
   ]
  },
  {
   "cell_type": "code",
   "execution_count": 3,
   "metadata": {},
   "outputs": [
    {
     "name": "stdout",
     "output_type": "stream",
     "text": [
      "(1, 'ABC')\n",
      "(2, 'DEF')\n",
      "(3, 'GHI')\n",
      "[(1, 'ABC'), (2, 'DEF'), (3, 'GHI')]\n"
     ]
    }
   ],
   "source": [
    "l1 = [1,2,3]\n",
    "s1 = ['ABC', 'DEF', 'GHI']\n",
    "\n",
    "for v in zip(l1, s1):\n",
    "    print (v)\n",
    "\n",
    "mylst = list(zip(l1, s1))\n",
    "print (mylst)\n"
   ]
  },
  {
   "cell_type": "code",
   "execution_count": 7,
   "metadata": {},
   "outputs": [
    {
     "name": "stdout",
     "output_type": "stream",
     "text": [
      "[{'name': 'John', 'id': 1001, 'phone': '925-111-1111'}, {'name': 'John', 'id': 1001, 'phone': '925-111-1111'}, {'name': 'John', 'id': 1001, 'phone': '925-111-1111'}]\n"
     ]
    }
   ],
   "source": [
    "keys = ['name', 'id', 'phone']\n",
    "values = [ ['John', 1001, '925-111-1111'],\n",
    "['John', 1001, '925-111-1111'],\n",
    "['John', 1001, '925-111-1111'] ]\n",
    "\n",
    "\n",
    "lstdict = []\n",
    "for item in values:\n",
    "\tlstdict.append(dict(zip(keys, item)))\n",
    "\n",
    "print (lstdict)\n"
   ]
  },
  {
   "cell_type": "code",
   "execution_count": 10,
   "metadata": {},
   "outputs": [
    {
     "name": "stdout",
     "output_type": "stream",
     "text": [
      "[(1, 4, 7), (2, 5, 8), (3, 6, 9)]\n"
     ]
    }
   ],
   "source": [
    "l1 = [1,2,3]\n",
    "l2 = [4,5, 6]\n",
    "l3 = [7,8,9]\n",
    "\n",
    "print (list(zip(l1, l2, l3)))\n",
    "\n"
   ]
  },
  {
   "cell_type": "code",
   "execution_count": 14,
   "metadata": {},
   "outputs": [
    {
     "name": "stdout",
     "output_type": "stream",
     "text": [
      "[{'id': 10, 'name': 'Kim', 'address': '123 Main'}, {'id': 20, 'name': 'Bill', 'address': '345 Grand'}, {'id': 30, 'name': 'Mary', 'address': '123 Blvd'}]\n"
     ]
    }
   ],
   "source": [
    "heading = ['id', 'name', 'address']\n",
    "\n",
    "valueset = [ [10, 'Kim', '123 Main'],\n",
    "               [20, 'Bill', '345 Grand'],\n",
    "               [30, 'Mary', '123 Blvd']\n",
    "]\n",
    "\n",
    "result = []\n",
    "for value in valueset:\n",
    "    result.append(dict(zip(heading, value)))\n",
    "print (result)\n"
   ]
  },
  {
   "cell_type": "code",
   "execution_count": 19,
   "metadata": {},
   "outputs": [
    {
     "name": "stdout",
     "output_type": "stream",
     "text": [
      "[(10, 40, 70), (20, 50, 80), (30, 60, 90)]\n"
     ]
    }
   ],
   "source": [
    "#### zip(*)\n",
    "\n",
    "\n",
    "lst = [ [10,20,30],\n",
    "\t[40,50,60],\n",
    "\t[70,80,90]\n",
    "]\n",
    "\n",
    "print (list(zip(*lst)))"
   ]
  },
  {
   "cell_type": "code",
   "execution_count": 24,
   "metadata": {},
   "outputs": [
    {
     "name": "stdout",
     "output_type": "stream",
     "text": [
      "[10, 20, 30] [40, 50, 60] [70, 80, 90]\n"
     ]
    }
   ],
   "source": [
    "lst = [ [10,20,30],\n",
    "\t[40,50,60],\n",
    "\t[70,80,90]\n",
    "]\n",
    "\n",
    "print (*lst)"
   ]
  },
  {
   "cell_type": "code",
   "execution_count": 28,
   "metadata": {},
   "outputs": [
    {
     "name": "stdout",
     "output_type": "stream",
     "text": [
      "{10: 'Kurt', 20: 'Jim', 30: 'Bill'}\n",
      "dict_items([(10, 'Kurt'), (20, 'Jim'), (30, 'Bill')])\n",
      "[((10, 'Kurt'),), ((20, 'Jim'),), ((30, 'Bill'),)]\n",
      "[(10, 20, 30), ('Kurt', 'Jim', 'Bill')]\n"
     ]
    }
   ],
   "source": [
    "dictionary1 = { 10:\"Kurt\", 20:\"Jim\", 30:\"Bill\"}\n",
    "print (dictionary1)\n",
    "print (dictionary1.items())\n",
    "print (list(zip(dictionary1.items()))) # zip(l1)\n",
    "print (list(zip(*dictionary1.items()))) # zip(l1, l2, l3)"
   ]
  },
  {
   "attachments": {},
   "cell_type": "markdown",
   "metadata": {},
   "source": [
    "### map"
   ]
  },
  {
   "cell_type": "code",
   "execution_count": 29,
   "metadata": {},
   "outputs": [
    {
     "name": "stdout",
     "output_type": "stream",
     "text": [
      "[2, 4, 6, 8, 10]\n"
     ]
    }
   ],
   "source": [
    "lst = [1,2,3,4,5]\n",
    "\n",
    "db = lambda x : x * 2\n",
    "# def db(x):\n",
    "#     return x*2\n",
    "\n",
    "result = map(db, lst)\n",
    "print (list(result))"
   ]
  },
  {
   "cell_type": "code",
   "execution_count": 30,
   "metadata": {},
   "outputs": [
    {
     "name": "stdout",
     "output_type": "stream",
     "text": [
      "[1, 0, 1, 0, 1, 1, 1]\n"
     ]
    }
   ],
   "source": [
    "# lab 13\n",
    "\n",
    "mylist = [ 5, 10, 15, 20, 21, 25, 27]\n",
    "checkeven = lambda y:y%2\n",
    "# checkeven = lambda y: 1 if y % 2 else 0\n",
    "# def checkeven(x):\n",
    "# \tif x % 2 == 0:\n",
    "# \t\treturn 0\n",
    "# \telse:\n",
    "# \t\treturn 1\n",
    "\n",
    "result = map(checkeven, mylist)\n",
    "print (list(result))b"
   ]
  },
  {
   "attachments": {},
   "cell_type": "markdown",
   "metadata": {},
   "source": [
    "### filter"
   ]
  },
  {
   "cell_type": "code",
   "execution_count": 31,
   "metadata": {},
   "outputs": [
    {
     "name": "stdout",
     "output_type": "stream",
     "text": [
      "[2, 4]\n"
     ]
    }
   ],
   "source": [
    "lst = [1,2,3,4,5]\n",
    "\n",
    "def geteven(x):\n",
    "    if x % 2 == 0:\n",
    "        return x\n",
    "\n",
    "result = filter(geteven, lst)\n",
    "print (list(result))\n",
    "\n",
    "# result = [2,4] "
   ]
  },
  {
   "cell_type": "code",
   "execution_count": 37,
   "metadata": {},
   "outputs": [
    {
     "name": "stdout",
     "output_type": "stream",
     "text": [
      "(25, 20)\n",
      "(55, 40)\n",
      "[]\n"
     ]
    }
   ],
   "source": [
    "# Lab 14\n",
    "\n",
    "mylist = [ 5, 10, 15, 25, 20, 55, 40]\n",
    "# mylist2 = [10, 15, 25, 20, 55, 40]\n",
    "zipped = zip(mylist, mylist[1:])\n",
    "\n",
    "# def gtright(x):\n",
    "#     if x[0] > x[1]: \n",
    "#         return True\n",
    "gtright = (lambda x: x[0]> x[1])\n",
    "first = (lambda x: x[0])\n",
    "\n",
    "result = filter(gtright, zipped) # 25, 55\n",
    "result = map(first, result)\n",
    "print (list(result))\n",
    "\n",
    "# for v in result:\n",
    "#     print (v[0])\n",
    "\n",
    "\n",
    "# Expected output\n",
    "# return this result\n",
    "# [25, 55]\n"
   ]
  },
  {
   "cell_type": "code",
   "execution_count": 38,
   "metadata": {},
   "outputs": [
    {
     "name": "stdout",
     "output_type": "stream",
     "text": [
      "15\n"
     ]
    }
   ],
   "source": [
    "# Reduce\n",
    "\n",
    "from functools import reduce\n",
    "\n",
    "lst = [1,2,3,4,5]\n",
    "\n",
    "def getsum(x, y):\n",
    "    return x+y\n",
    "\n",
    "result = reduce(getsum, lst)\n",
    "print (result)\n",
    "\n"
   ]
  },
  {
   "cell_type": "code",
   "execution_count": 41,
   "metadata": {},
   "outputs": [
    {
     "name": "stdout",
     "output_type": "stream",
     "text": [
      "True\n"
     ]
    }
   ],
   "source": [
    "if -1:\n",
    "    print ('True')"
   ]
  }
 ],
 "metadata": {
  "kernelspec": {
   "display_name": "base",
   "language": "python",
   "name": "python3"
  },
  "language_info": {
   "codemirror_mode": {
    "name": "ipython",
    "version": 3
   },
   "file_extension": ".py",
   "mimetype": "text/x-python",
   "name": "python",
   "nbconvert_exporter": "python",
   "pygments_lexer": "ipython3",
   "version": "3.9.13"
  },
  "orig_nbformat": 4
 },
 "nbformat": 4,
 "nbformat_minor": 2
}
