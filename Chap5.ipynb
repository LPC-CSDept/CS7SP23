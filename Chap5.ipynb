{
 "cells": [
  {
   "attachments": {},
   "cell_type": "markdown",
   "metadata": {},
   "source": [
    "# Week 14\n",
    "### Chapter 5"
   ]
  },
  {
   "cell_type": "code",
   "execution_count": null,
   "metadata": {},
   "outputs": [],
   "source": [
    "\n",
    "numbers = [3, 2, 0, 5, 4]\n",
    "\n",
    "# pivot = numbers[0] \n",
    "pivot = numbers.pop(0)\n",
    "# left = []\n",
    "# right = []\n",
    "# for i in range(len(numbers)):\n",
    "#     if numbers[i] < pivot:\n",
    "#         left.append(numbers[i])\n",
    "left = [ v  if v < pivot]\n",
    "right = [ v for v in numbers if v > pivot]\n",
    "# for i in range(len(numbers)):\n",
    "#     if numbers[i] > pivot:\n",
    "#         right.append(numbers[i])\n",
    "print (left)\n",
    "print(pivot)\n",
    "print (right)\n",
    "\n",
    "numbers = [*left, pivot, *right]\n",
    "\n",
    "print (numbers)"
   ]
  },
  {
   "cell_type": "code",
   "execution_count": null,
   "metadata": {},
   "outputs": [],
   "source": [
    "mygenerator = ( x for x in range(3))\n",
    "print (mygenerator)\n",
    "\n",
    "for v in mygenerator:\n",
    "    print (v)\n",
    "    \n",
    "for v in mygenerator:\n",
    "    print (v)\n",
    "\n",
    "# value = next(mygenerator)\n",
    "# print (value)\n",
    "# value = next(mygenerator)\n",
    "# print (value)\n",
    "# value = next(mygenerator)\n",
    "# print (value)\n",
    "# value = next(mygenerator)\n",
    "# print (value)"
   ]
  },
  {
   "attachments": {},
   "cell_type": "markdown",
   "metadata": {},
   "source": [
    "### Lab 5-12"
   ]
  },
  {
   "cell_type": "code",
   "execution_count": 21,
   "metadata": {},
   "outputs": [
    {
     "name": "stdout",
     "output_type": "stream",
     "text": [
      "0\n",
      "1\n",
      "2\n",
      "0\n",
      "1\n",
      "2\n"
     ]
    }
   ],
   "source": [
    "num = [0,1,2]\n",
    "myiter = iter(num)\n",
    "\n",
    "for v in myiter:\n",
    "    print(v)\n",
    "\n",
    "for v in num:\n",
    "    print(v)\n",
    "\n",
    "\n",
    "# value = next(myiter)\n",
    "# print (value)\n"
   ]
  },
  {
   "attachments": {},
   "cell_type": "markdown",
   "metadata": {},
   "source": [
    "# Yield"
   ]
  },
  {
   "cell_type": "code",
   "execution_count": 9,
   "metadata": {},
   "outputs": [
    {
     "name": "stdout",
     "output_type": "stream",
     "text": [
      "10\n",
      "20\n",
      "30\n"
     ]
    }
   ],
   "source": [
    "mytuple = (10, 20, 30)\n",
    "myiterator = iter(mytuple)\n",
    "\n",
    "value = next(myiterator)\n",
    "print (value)\n",
    "\n",
    "value = next(myiterator)\n",
    "print (value)\n",
    "\n",
    "value = next(myiterator)\n",
    "print (value)\n"
   ]
  },
  {
   "cell_type": "code",
   "execution_count": 24,
   "metadata": {},
   "outputs": [
    {
     "name": "stdout",
     "output_type": "stream",
     "text": [
      "0\n",
      "1\n",
      "2\n"
     ]
    }
   ],
   "source": [
    "def mygen():\n",
    "    for i in range(3):\n",
    "        yield i\n",
    "\n",
    "retgen = mygen()\n",
    "for v in retgen:\n",
    "       print (v)\n",
    "for v in retgen:\n",
    "       print (v)"
   ]
  },
  {
   "cell_type": "code",
   "execution_count": 26,
   "metadata": {},
   "outputs": [
    {
     "name": "stdout",
     "output_type": "stream",
     "text": [
      "<generator object findEvenNumber at 0x10b0a0660>\n",
      "2\n",
      "4\n"
     ]
    }
   ],
   "source": [
    "# 5-13\n",
    "\n",
    "def findEvenNumber(numbers):\n",
    "    for v in numbers:\n",
    "        if v % 2 == 0:\n",
    "            yield v\n",
    "            \n",
    "\n",
    "numbers = [1,2,3,4,5]\n",
    "mygen = findEvenNumber(numbers)\n",
    "\n",
    "print (mygen)\n",
    "for v in mygen:\n",
    "    print (v)"
   ]
  },
  {
   "attachments": {},
   "cell_type": "markdown",
   "metadata": {},
   "source": [
    "# Lambda\n"
   ]
  },
  {
   "cell_type": "code",
   "execution_count": 30,
   "metadata": {},
   "outputs": [
    {
     "name": "stdout",
     "output_type": "stream",
     "text": [
      "20\n",
      "[55, 60, 75, 100]\n"
     ]
    }
   ],
   "source": [
    "# Lab 16\n",
    "\n",
    "# greater \n",
    "\n",
    "mygt = lambda x, y : x if x > y else y\n",
    "\n",
    "print (mygt(10,20))\n",
    "\n",
    "\n",
    "x = 10\n",
    "y = 20\n",
    "if x > y:\n",
    "\tresult = x \n",
    "else:\n",
    "\tresult = y\n",
    "result = x if x > y else y\n",
    "\n",
    "\n",
    "# filter 50\n",
    "\n",
    "filter50 = lambda numbers: [ v for v in numbers if v > 50 ]\n",
    "numbers = [10, 55, 60, 45, 75, 100]\n",
    "print (filter50(numbers))\n"
   ]
  },
  {
   "cell_type": "code",
   "execution_count": 6,
   "metadata": {},
   "outputs": [
    {
     "name": "stdout",
     "output_type": "stream",
     "text": [
      "2\n",
      "[5, 10, 15, 20, 25] 2\n",
      "0\n",
      "[5, 10] 0\n",
      "0\n",
      "[10] 0\n"
     ]
    }
   ],
   "source": [
    "# Lab 5-12\n",
    "\n",
    "def split(numbers):\n",
    "    pivot = numbers.pop(0)\n",
    "    left = [ v for v in numbers if v <= pivot]\n",
    "    right = [ v for v in numbers if v > pivot]\n",
    "    numbers = [*left, pivot, *right]\n",
    "    pidx = len(left)\n",
    "    print (pidx)\n",
    "    return numbers, pidx\n"
   ]
  },
  {
   "cell_type": "code",
   "execution_count": 18,
   "metadata": {},
   "outputs": [
    {
     "name": "stdout",
     "output_type": "stream",
     "text": [
      "Your result :  32\n",
      "numbers 1  [1, 4, 6, 9, 4]\n",
      "numbers 2  [5, 5, 7, 8, 8]\n",
      "Your result :  171\n"
     ]
    }
   ],
   "source": [
    "# A5-1\n",
    "import random\n",
    "\n",
    "\n",
    "def sumoProduct(l1, l2):\n",
    "    ##################################################\n",
    "    # make your code\n",
    "    ##################################################\n",
    "    sop = 0\n",
    "    for i in range(len(l1)):\n",
    "        multi = l1[i] * l2[i]\n",
    "        sop += multi\n",
    "    return sop\n",
    "\n",
    "numbers1 = [5, 3, 1, 1, 2]\n",
    "numbers2 = [1, 2, 2, 9, 5]\n",
    "result = sumoProduct(numbers1, numbers2)\n",
    "print('Your result : ', result)\n",
    "\n",
    "\n",
    "numbers1 = [random.randint(1, 10) for i in range(5)]\n",
    "numbers2 = [random.randint(1, 10) for i in range(5)]\n",
    "print('numbers 1 ', numbers1)\n",
    "print('numbers 2 ', numbers2)\n",
    "result = sumoProduct(numbers1, numbers2)\n",
    "print('Your result : ', result)\n"
   ]
  },
  {
   "cell_type": "code",
   "execution_count": 17,
   "metadata": {},
   "outputs": [
    {
     "name": "stdout",
     "output_type": "stream",
     "text": [
      "[0, 1, 2, 3, 5, 7, 11, 13, 17, 19]\n",
      "[11, 13, 17, 19, 23, 29, 31, 37, 41, 43, 47]\n"
     ]
    }
   ],
   "source": [
    "# 5-2\n",
    "\n",
    "def isPrime(num):\n",
    "    ##################################################\n",
    "    # make your code\n",
    "    ##################################################\n",
    "    for i in range(2, num-1, 1):\n",
    "        if num % i == 0:\n",
    "\t\t\t# print ('Not Prime')\n",
    "            return False\n",
    "    else:\n",
    "\t\t# print ('Prime')\n",
    "        return True\n",
    "\n",
    "\n",
    "def primeNumbers(begin, end):\n",
    "    ##################################################\n",
    "    # make your code\n",
    "    ##################################################\n",
    "    # isPrime(value)\n",
    "    plist = []\n",
    "    for num in range(begin, end):\n",
    "        if isPrime(num):\n",
    "            plist.append(num)\n",
    "    return plist\n",
    "\n",
    "\n",
    "def main():\n",
    "    begin = 0\n",
    "    end = 20\n",
    "    rlst = primeNumbers(begin, end)\n",
    "    print(rlst)\n",
    "\n",
    "    begin = 10\n",
    "    end = 50\n",
    "    rlst = primeNumbers(begin, end)\n",
    "    print(rlst)\n",
    "\n",
    "\n",
    "if __name__ == '__main__':\n",
    "    main()\n",
    "\n"
   ]
  },
  {
   "cell_type": "code",
   "execution_count": 14,
   "metadata": {},
   "outputs": [],
   "source": [
    "# num = 13\n",
    "def isPrime(num):\n",
    "\tfor i in range(2, num-1, 1):\n",
    "\t\tif num % i == 0:\n",
    "\t\t\t# print ('Not Prime')\n",
    "\t\t\treturn False\n",
    "\telse:\n",
    "\t\t# print ('Prime')\n",
    "\t\treturn True\n"
   ]
  },
  {
   "cell_type": "code",
   "execution_count": 16,
   "metadata": {},
   "outputs": [
    {
     "name": "stdout",
     "output_type": "stream",
     "text": [
      "[11, 13, 17, 19]\n"
     ]
    }
   ],
   "source": [
    "# start = 10\n",
    "# end = 20\n",
    "def primeNumbers(start, end):\n",
    "\tplist = []\n",
    "\tfor num in range(start, end):\n",
    "\t\tif isPrime(num):\n",
    "\t\t\tplist.append(num)\n",
    "\treturn plist\n",
    "\n",
    "primenum = primeNumbers(10, 20)\n",
    "print (primenum)    "
   ]
  },
  {
   "cell_type": "code",
   "execution_count": null,
   "metadata": {},
   "outputs": [],
   "source": [
    "#5 -3\n",
    "\n",
    "def shiftN(stringvalue, direction, N):\n",
    "\tfor i in range(N):\n",
    "\t\tif direction == 0:\n",
    "\t\t\tstringvalue = stringvalue[1:]\n",
    "\t\t\tstringvalue += '0'\n",
    "\t\telif direction == 1:\n",
    "\t\t\tstringvalue = stringvalue[:-1]\n",
    "\t\t\tstringvalue = '0' + stringvalue\n",
    "\treturn stringvalue\n",
    "\n",
    "\n",
    "str = '001100'\n",
    "print (int(str, 2))\n",
    "rstr = shiftN(str, 0, 2)\n",
    "print (rstr)\n",
    "print (int(rstr, 2))\n",
    "rstr = shiftN(rstr, 1, 4)\n",
    "print (rstr)\n",
    "print (int(rstr,2 ))\n"
   ]
  }
 ],
 "metadata": {
  "kernelspec": {
   "display_name": "base",
   "language": "python",
   "name": "python3"
  },
  "language_info": {
   "codemirror_mode": {
    "name": "ipython",
    "version": 3
   },
   "file_extension": ".py",
   "mimetype": "text/x-python",
   "name": "python",
   "nbconvert_exporter": "python",
   "pygments_lexer": "ipython3",
   "version": "3.9.13"
  },
  "orig_nbformat": 4
 },
 "nbformat": 4,
 "nbformat_minor": 2
}
