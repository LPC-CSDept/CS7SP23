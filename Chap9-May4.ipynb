{
 "cells": [
  {
   "attachments": {},
   "cell_type": "markdown",
   "metadata": {},
   "source": [
    "# Chapter 9. Dictionary\n",
    "\n",
    "### Lab 2/3/4/5"
   ]
  },
  {
   "cell_type": "code",
   "execution_count": null,
   "metadata": {},
   "outputs": [],
   "source": [
    "d1 = {'a':1,'b':2,'c':3}\n",
    "\n",
    "print(d1['b'])\n",
    "\n",
    "for i, v in d1.items():\n",
    "    print(i, v)\n",
    "\n",
    "for i in d1:\n",
    "    print(d1[i])\n",
    " \n",
    "d1.pop('a')\n",
    "d1\n",
    "d1.popitem()\n",
    "d1"
   ]
  },
  {
   "attachments": {},
   "cell_type": "markdown",
   "metadata": {},
   "source": [
    "# Lab 3"
   ]
  }
 ],
 "metadata": {
  "kernelspec": {
   "display_name": "base",
   "language": "python",
   "name": "python3"
  },
  "language_info": {
   "codemirror_mode": {
    "name": "ipython",
    "version": 3
   },
   "file_extension": ".py",
   "mimetype": "text/x-python",
   "name": "python",
   "nbconvert_exporter": "python",
   "pygments_lexer": "ipython3",
   "version": "3.9.13"
  },
  "orig_nbformat": 4
 },
 "nbformat": 4,
 "nbformat_minor": 2
}
